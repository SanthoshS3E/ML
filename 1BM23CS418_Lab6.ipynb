{
  "nbformat": 4,
  "nbformat_minor": 0,
  "metadata": {
    "colab": {
      "provenance": []
    },
    "kernelspec": {
      "name": "python3",
      "display_name": "Python 3"
    },
    "language_info": {
      "name": "python"
    }
  },
  "cells": [
    {
      "cell_type": "code",
      "execution_count": null,
      "metadata": {
        "id": "Absxxd0PLTk7",
        "outputId": "7cc30a6b-52ff-41e0-9226-9bc74b795489",
        "colab": {
          "base_uri": "https://localhost:8080/"
        }
      },
      "outputs": [
        {
          "output_type": "stream",
          "name": "stdout",
          "text": [
            "Accuracy: 100.00%\n",
            "The predicted fruit category is: apple\n"
          ]
        },
        {
          "output_type": "stream",
          "name": "stderr",
          "text": [
            "/usr/local/lib/python3.11/dist-packages/sklearn/utils/validation.py:2739: UserWarning: X does not have valid feature names, but RandomForestClassifier was fitted with feature names\n",
            "  warnings.warn(\n"
          ]
        }
      ],
      "source": [
        "# Import necessary libraries\n",
        "import pandas as pd\n",
        "from sklearn.ensemble import RandomForestClassifier\n",
        "from sklearn.model_selection import train_test_split\n",
        "from sklearn.metrics import accuracy_score\n",
        "\n",
        "# Example data\n",
        "data = {\n",
        "    'weight': [150, 120, 180, 160, 110, 200, 140, 190, 130, 170],\n",
        "    'color_score': [7, 5, 9, 6, 4, 10, 6, 8, 5, 7],  # Example feature (color intensity or some numerical feature)\n",
        "    'category': ['apple', 'banana', 'mango', 'apple', 'banana', 'mango', 'apple', 'mango', 'banana', 'apple']\n",
        "}\n",
        "\n",
        "# Create a DataFrame\n",
        "df = pd.DataFrame(data)\n",
        "\n",
        "# Encoding the 'category' column (fruit names) to numerical values\n",
        "df['category'] = df['category'].map({'apple': 0, 'banana': 1, 'mango': 2})\n",
        "\n",
        "# Features and target variable\n",
        "X = df[['weight', 'color_score']]  # Feature columns\n",
        "y = df['category']  # Target column\n",
        "\n",
        "# Split the data into training and testing sets\n",
        "X_train, X_test, y_train, y_test = train_test_split(X, y, test_size=0.3, random_state=42)\n",
        "\n",
        "# Initialize the Random Forest Classifier\n",
        "rf_classifier = RandomForestClassifier(n_estimators=100, random_state=42)\n",
        "\n",
        "# Train the model\n",
        "rf_classifier.fit(X_train, y_train)\n",
        "\n",
        "# Make predictions\n",
        "y_pred = rf_classifier.predict(X_test)\n",
        "\n",
        "# Evaluate the model\n",
        "accuracy = accuracy_score(y_test, y_pred)\n",
        "print(f'Accuracy: {accuracy * 100:.2f}%')\n",
        "\n",
        "# Example of predicting a new sample\n",
        "new_sample = [[160, 7]]  # Sample with weight 160 and color score 7\n",
        "prediction = rf_classifier.predict(new_sample)\n",
        "category = {0: 'apple', 1: 'banana', 2: 'mango'}\n",
        "print(f'The predicted fruit category is: {category[prediction[0]]}')\n"
      ]
    }
  ]
}