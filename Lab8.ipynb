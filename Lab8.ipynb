{
  "nbformat": 4,
  "nbformat_minor": 0,
  "metadata": {
    "colab": {
      "provenance": []
    },
    "kernelspec": {
      "name": "python3",
      "display_name": "Python 3"
    },
    "language_info": {
      "name": "python"
    }
  },
  "cells": [
    {
      "cell_type": "code",
      "execution_count": null,
      "metadata": {
        "colab": {
          "base_uri": "https://localhost:8080/"
        },
        "id": "9gczJ06AVtU-",
        "outputId": "5585cf9e-289d-42c9-def7-d857c65e6b69"
      },
      "outputs": [
        {
          "output_type": "stream",
          "name": "stdout",
          "text": [
            "Accuracy with 10 estimators: 0.8182\n",
            "n_estimators=10 => Accuracy: 0.8182\n",
            "n_estimators=20 => Accuracy: 0.8244\n",
            "n_estimators=30 => Accuracy: 0.8310\n",
            "n_estimators=40 => Accuracy: 0.8314\n",
            "n_estimators=50 => Accuracy: 0.8327\n",
            "n_estimators=60 => Accuracy: 0.8328\n",
            "n_estimators=70 => Accuracy: 0.8334\n",
            "n_estimators=80 => Accuracy: 0.8335\n"
          ]
        }
      ],
      "source": [
        "import pandas as pd\n",
        "from sklearn.model_selection import train_test_split\n",
        "from sklearn.preprocessing import LabelEncoder\n",
        "from sklearn.ensemble import AdaBoostClassifier\n",
        "from sklearn.metrics import accuracy_score\n",
        "import matplotlib.pyplot as plt\n",
        "\n",
        "# Load the dataset\n",
        "df = pd.read_csv(\"/content/income.csv\")\n",
        "\n",
        "# Encode the target column (income_level)\n",
        "le = LabelEncoder()\n",
        "df['income_level'] = le.fit_transform(df['income_level'])  # e.g., <=50K → 0, >50K → 1\n",
        "\n",
        "# Split features and target\n",
        "X = df.drop(\"income_level\", axis=1)\n",
        "y = df[\"income_level\"]\n",
        "\n",
        "# Train-test split\n",
        "X_train, X_test, y_train, y_test = train_test_split(X, y, test_size=0.2, random_state=42)\n",
        "\n",
        "# 1️⃣ Train AdaBoostClassifier with n_estimators = 10\n",
        "model = AdaBoostClassifier(n_estimators=10, random_state=42)\n",
        "model.fit(X_train, y_train)\n",
        "y_pred = model.predict(X_test)\n",
        "accuracy = accuracy_score(y_test, y_pred)\n",
        "print(f\"Accuracy with 10 estimators: {accuracy:.4f}\")\n",
        "\n",
        "# 2️⃣ Fine-tune the model by changing n_estimators\n",
        "scores = []\n",
        "n_values = range(10, 101, 10)\n",
        "\n",
        "for n in n_values:\n",
        "    model = AdaBoostClassifier(n_estimators=n, random_state=42)\n",
        "    model.fit(X_train, y_train)\n",
        "    y_pred = model.predict(X_test)\n",
        "    acc = accuracy_score(y_test, y_pred)\n",
        "    scores.append(acc)\n",
        "    print(f\"n_estimators={n} => Accuracy: {acc:.4f}\")\n",
        "\n",
        "# 3️⃣ Find the best result\n",
        "best_n = n_values[scores.index(max(scores))]\n",
        "best_score = max(scores)\n",
        "print(f\"\\n✅ Best accuracy: {best_score:.4f} with {best_n} estimators\")\n",
        "\n",
        "# Optional: Plot the result\n",
        "plt.plot(n_values, scores, marker='o')\n",
        "plt.title(\"Accuracy vs Number of Estimators\")\n",
        "plt.xlabel(\"n_estimators (number of trees)\")\n",
        "plt.ylabel(\"Accuracy\")\n",
        "plt.grid(True)\n",
        "plt.show()\n"
      ]
    }
  ]
}