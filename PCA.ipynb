{
  "nbformat": 4,
  "nbformat_minor": 0,
  "metadata": {
    "colab": {
      "provenance": []
    },
    "kernelspec": {
      "name": "python3",
      "display_name": "Python 3"
    },
    "language_info": {
      "name": "python"
    }
  },
  "cells": [
    {
      "cell_type": "code",
      "execution_count": null,
      "metadata": {
        "colab": {
          "base_uri": "https://localhost:8080/"
        },
        "id": "KPAg92CRodYW",
        "outputId": "3bfb81e4-6bd0-4e6c-c5ef-859a1e23655d"
      },
      "outputs": [
        {
          "output_type": "stream",
          "name": "stdout",
          "text": [
            "SVM Accuracy: 0.8641\n",
            "Logistic Regression Accuracy: 0.8478\n",
            "Random Forest Accuracy: 0.8750\n",
            "SVM Accuracy after PCA: 0.8750\n",
            "Logistic Regression Accuracy after PCA: 0.8370\n",
            "Random Forest Accuracy after PCA: 0.8641\n",
            "\n",
            "Comparison (Original vs PCA):\n",
            "SVM: Original = 0.8641, PCA = 0.8750\n",
            "Logistic Regression: Original = 0.8478, PCA = 0.8370\n",
            "Random Forest: Original = 0.8750, PCA = 0.8641\n"
          ]
        }
      ],
      "source": [
        "import pandas as pd\n",
        "from sklearn.model_selection import train_test_split\n",
        "from sklearn.preprocessing import LabelEncoder, StandardScaler\n",
        "from sklearn.svm import SVC\n",
        "from sklearn.linear_model import LogisticRegression\n",
        "from sklearn.ensemble import RandomForestClassifier\n",
        "from sklearn.metrics import accuracy_score\n",
        "from sklearn.decomposition import PCA\n",
        "\n",
        "# Load the dataset\n",
        "df = pd.read_csv('/content/heart (2).csv')\n",
        "\n",
        "# Detect and encode categorical columns\n",
        "text_cols = df.select_dtypes(include=['object']).columns.tolist()\n",
        "for col in text_cols:\n",
        "    le = LabelEncoder()\n",
        "    df[col] = le.fit_transform(df[col].astype(str))\n",
        "\n",
        "# Use correct target column\n",
        "target_col = 'HeartDisease'\n",
        "X = df.drop(columns=[target_col])\n",
        "y = df[target_col]\n",
        "\n",
        "# Scale the features\n",
        "scaler = StandardScaler()\n",
        "X_scaled = scaler.fit_transform(X)\n",
        "\n",
        "# Train-test split\n",
        "X_train, X_test, y_train, y_test = train_test_split(X_scaled, y, test_size=0.2, random_state=42)\n",
        "\n",
        "# Models\n",
        "models = {\n",
        "    'SVM': SVC(),\n",
        "    'Logistic Regression': LogisticRegression(),\n",
        "    'Random Forest': RandomForestClassifier()\n",
        "}\n",
        "\n",
        "# Evaluate without PCA\n",
        "results = {}\n",
        "for name, model in models.items():\n",
        "    model.fit(X_train, y_train)\n",
        "    y_pred = model.predict(X_test)\n",
        "    results[name] = accuracy_score(y_test, y_pred)\n",
        "    print(f\"{name} Accuracy: {results[name]:.4f}\")\n",
        "\n",
        "# Apply PCA\n",
        "pca = PCA(n_components=0.95)\n",
        "X_train_pca = pca.fit_transform(X_train)\n",
        "X_test_pca = pca.transform(X_test)\n",
        "\n",
        "# Evaluate after PCA\n",
        "pca_results = {}\n",
        "for name, model in models.items():\n",
        "    model.fit(X_train_pca, y_train)\n",
        "    y_pred = model.predict(X_test_pca)\n",
        "    pca_results[name] = accuracy_score(y_test, y_pred)\n",
        "    print(f\"{name} Accuracy after PCA: {pca_results[name]:.4f}\")\n",
        "\n",
        "# Final comparison\n",
        "print(\"\\nComparison (Original vs PCA):\")\n",
        "for name in models:\n",
        "    print(f\"{name}: Original = {results[name]:.4f}, PCA = {pca_results[name]:.4f}\")\n"
      ]
    }
  ]
}