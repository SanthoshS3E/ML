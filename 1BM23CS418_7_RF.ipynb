{
  "nbformat": 4,
  "nbformat_minor": 0,
  "metadata": {
    "colab": {
      "provenance": []
    },
    "kernelspec": {
      "name": "python3",
      "display_name": "Python 3"
    },
    "language_info": {
      "name": "python"
    }
  },
  "cells": [
    {
      "cell_type": "code",
      "execution_count": null,
      "metadata": {
        "colab": {
          "base_uri": "https://localhost:8080/"
        },
        "id": "fAyWvW4PZlCc",
        "outputId": "5284467b-18fa-42bd-90fd-1af2ee610d00"
      },
      "outputs": [
        {
          "output_type": "stream",
          "name": "stdout",
          "text": [
            "Accuracy with default n_estimators (10): 1.0\n",
            "\n",
            "Best Accuracy: 1.0 achieved with n_estimators = 1\n"
          ]
        }
      ],
      "source": [
        "\n",
        "import pandas as pd\n",
        "from sklearn.model_selection import train_test_split\n",
        "from sklearn.ensemble import RandomForestClassifier\n",
        "from sklearn.metrics import accuracy_score\n",
        "\n",
        "\n",
        "df = pd.read_csv('/content/iris (3).csv')\n",
        "\n",
        "# Prepare the data\n",
        "X = df.drop('species', axis=1)\n",
        "y = df['species']\n",
        "X_train, X_test, y_train, y_test = train_test_split(X, y, test_size=0.2, random_state=42)\n",
        "\n",
        "# Build and evaluate the Random Forest classifier with default n_estimators\n",
        "rf_classifier_default = RandomForestClassifier(random_state=42)\n",
        "rf_classifier_default.fit(X_train, y_train)\n",
        "y_pred_default = rf_classifier_default.predict(X_test)\n",
        "default_accuracy = accuracy_score(y_test, y_pred_default)\n",
        "print(f\"Accuracy with default n_estimators (10): {default_accuracy}\")\n",
        "\n",
        "# Fine-tune the model by varying the number of trees\n",
        "best_accuracy = 0\n",
        "best_n_estimators = 0\n",
        "\n",
        "for n_estimators in range(1, 101):  # Try different number of trees\n",
        "    rf_classifier = RandomForestClassifier(n_estimators=n_estimators, random_state=42)\n",
        "    rf_classifier.fit(X_train, y_train)\n",
        "    y_pred = rf_classifier.predict(X_test)\n",
        "    accuracy = accuracy_score(y_test, y_pred)\n",
        "\n",
        "    if accuracy > best_accuracy:\n",
        "        best_accuracy = accuracy\n",
        "        best_n_estimators = n_estimators\n",
        "\n",
        "print(f\"\\nBest Accuracy: {best_accuracy} achieved with n_estimators = {best_n_estimators}\")\n"
      ]
    }
  ]
}